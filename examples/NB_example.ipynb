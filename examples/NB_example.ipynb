{
 "cells": [
  {
   "cell_type": "code",
   "execution_count": null,
   "metadata": {
    "collapsed": false,
    "scrolled": true
   },
   "outputs": [],
   "source": [
    "# Use 'shift+enter' to execute each cell\n",
    "\n",
    "# This script checks that your git repository is up-to-date and \n",
    "# makes sure that your enviroment is setup correctly\n",
    "%cd ~/AWAKE_ANALYSIS_TOOLS/utilities\n",
    "!./git_check.sh\n",
    "%run setup.py\n",
    "%cd ~/AWAKE_ANALYSIS_TOOLS/scratch"
   ]
  },
  {
   "cell_type": "code",
   "execution_count": null,
   "metadata": {
    "collapsed": false,
    "scrolled": true
   },
   "outputs": [],
   "source": [
    "# If the output of the above cell says \"Need to pull\" *AND* you are sure you don't have\n",
    "# any changes to your working directory (scratch excluded), execute the line below\n",
    "!git pull"
   ]
  },
  {
   "cell_type": "code",
   "execution_count": null,
   "metadata": {
    "collapsed": false,
    "scrolled": true
   },
   "outputs": [],
   "source": [
    "# Set the path to the cut file\n",
    "inputFile=os.environ['AAT']+'scratch/cutInput_example.txt'\n",
    "print('Loaded Input File with following parameters:\\n')\n",
    "!cat {inputFile}"
   ]
  },
  {
   "cell_type": "code",
   "execution_count": null,
   "metadata": {
    "collapsed": false,
    "scrolled": true
   },
   "outputs": [],
   "source": [
    "# Parse the cut file and get list of files in specified time range\n",
    "InputParsed=cp.inputParser(inputFile)\n",
    "print(str(len(InputParsed.flist))+' events in this time range.')"
   ]
  },
  {
   "cell_type": "code",
   "execution_count": null,
   "metadata": {
    "collapsed": false,
    "scrolled": true
   },
   "outputs": [],
   "source": [
    "# Return a list of files satisfying the cuts\n",
    "print('Applying Cuts . . .')\n",
    "start = time.time()\n",
    "((fb,null),fl) = InputParsed()\n",
    "file_bool = np.array(fb)\n",
    "file_list = np.array(fl)\n",
    "use_files = file_list[file_bool]\n",
    "end = time.time()\n",
    "print(str(len(use_files))+' events passed cuts.')\n",
    "print('Time Elapsed = '+str(end-start))"
   ]
  },
  {
   "cell_type": "code",
   "execution_count": null,
   "metadata": {
    "collapsed": false,
    "scrolled": true
   },
   "outputs": [],
   "source": [
    "# Now create the ntuple\n",
    "start = time.time()\n",
    "cn.createNtuples(use_files,InputParsed)\n",
    "end = time.time()\n",
    "print('Time Elapsed = '+str(end-start))"
   ]
  },
  {
   "cell_type": "code",
   "execution_count": null,
   "metadata": {
    "collapsed": false,
    "scrolled": true
   },
   "outputs": [],
   "source": [
    "# Load the ntuple and get streak data\n",
    "from returnData import returnData\n",
    "\n",
    "f = h5py.File('example_ntup.h5')\n",
    "date_set = 'file_info/FileTime'\n",
    "strk_img_set = 'AwakeEventData/XMPP-STREAK/StreakImage/streakImageData'\n",
    "strk_wid_set = 'AwakeEventData/XMPP-STREAK/StreakImage/streakImageWidth'\n",
    "strk_ax_set = 'AwakeEventData/XMPP-STREAK/StreakImage/streakImageTimeValues'\n",
    "bl_temp_set = 'AwakeEventData/awake.XAWAVS_BEAML_TT_AVG/PosSt/value'\n",
    "df_temp_set = 'AwakeEventData/awake.XAWAVS_DF_TT_AVG/PosSt/value'\n",
    "uf_temp_set = 'AwakeEventData/awake.XAWAVS_UF_TT_AVG/PosSt/value'\n",
    "vx_temp_set = 'AwakeEventData/awake.XAWAVS_VX_TT_AVG/PosSt/value'\n",
    "\n",
    "date_data = returnData(f,date_set)/1e9\n",
    "img_data = returnData(f,strk_img_set)\n",
    "img_width = returnData(f,strk_wid_set)\n",
    "time_data = returnData(f,strk_ax_set)\n",
    "bl_temp = returnData(f,bl_temp_set)\n",
    "df_temp = returnData(f,df_temp_set)\n",
    "uf_temp = returnData(f,uf_temp_set)\n",
    "vx_temp = returnData(f,vx_temp_set)\n",
    "\n",
    "# Correct the time axis\n",
    "time_axis = time_data[:,1]\n",
    "time_axis[0]=2*time_axis[1]-time_axis[2]\n",
    "x_axis = np.linspace(-2,2,img_width[0])\n",
    "\n",
    "# Set ROI and image analysis parameters\n",
    "roi = {}\n",
    "roi['x_min'] = -1.5\n",
    "roi['x_max'] = 1.5\n",
    "roi['y_min'] = 0\n",
    "roi['y_max'] = 200\n",
    "do = {}\n",
    "do['streak'] = 2.5\n",
    "cam = 'XMPP_STREAK'\n",
    "\n",
    "# Check to make sure parameters are ok\n",
    "img = img_data[:,:,1]\n",
    "my_dict = analyze_frame(img,x_axis,time_axis,roi,[],do)\n",
    "(n_x,n_t) = np.shape(my_dict['img'])\n",
    "nfft = len(my_dict['streak_data']['fftb'])\n",
    "\n",
    "print('Data Loaded')"
   ]
  },
  {
   "cell_type": "code",
   "execution_count": null,
   "metadata": {
    "collapsed": false,
    "scrolled": true
   },
   "outputs": [],
   "source": [
    "# Plot results in a loop\n",
    "%matplotlib notebook\n",
    "nEvts = len(img_width)\n",
    "im_array = np.zeros((n_x,n_t,nEvts))\n",
    "fft_array = np.zeros((nfft,nEvts))\n",
    "avg_array = np.zeros((nfft,nEvts))\n",
    "for i in range(nEvts):\n",
    "    img = img_data[:,:,i]\n",
    "    my_dict = analyze_frame(img,x_axis,time_axis,roi,[],do)\n",
    "    if i==0:\n",
    "        this_fft=my_dict['streak_data']['fftb']\n",
    "        fft_avg=this_fft\n",
    "    else:\n",
    "        this_fft=my_dict['streak_data']['fftb']\n",
    "        fft_avg+=this_fft\n",
    "        fft_avg*=i/(i+1)\n",
    "    if any(np.isnan(this_fft)):\n",
    "        print(i)\n",
    "    im_array[:,:,i] = my_dict['img']\n",
    "    fft_array[:,i] = my_dict['streak_data']['fftb']\n",
    "    avg_array[:,i] = fft_avg\n",
    "    fig = view_streak(my_dict,cam,[-0.5, 0.5],[400, 900],fft_avg)\n",
    "    fig.canvas.draw()\n",
    "    time.sleep(0.02)\n",
    "    if i < (nEvts-1):\n",
    "        plt.clf()"
   ]
  },
  {
   "cell_type": "code",
   "execution_count": null,
   "metadata": {
    "collapsed": true,
    "scrolled": true
   },
   "outputs": [],
   "source": []
  }
 ],
 "metadata": {
  "kernelspec": {
   "display_name": "Python 3",
   "language": "python",
   "name": "python3"
  },
  "language_info": {
   "codemirror_mode": {
    "name": "ipython",
    "version": 3
   },
   "file_extension": ".py",
   "mimetype": "text/x-python",
   "name": "python",
   "nbconvert_exporter": "python",
   "pygments_lexer": "ipython3",
   "version": "3.5.2"
  }
 },
 "nbformat": 4,
 "nbformat_minor": 1
}
